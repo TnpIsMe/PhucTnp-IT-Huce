{
 "cells": [
  {
   "cell_type": "code",
   "execution_count": null,
   "id": "7ccc5d6d",
   "metadata": {},
   "outputs": [],
   "source": [
    "import numpy as np\n",
    "from sympy import symbols"
   ]
  },
  {
   "cell_type": "code",
   "execution_count": 11,
   "id": "58a4bc34",
   "metadata": {},
   "outputs": [],
   "source": [
    "g = lambda x: np.array([1 / 4 * np.log(x[0]**2 + x[1]**2 + 1),\n",
    "                        (x[0]**2 - x[1] + 3) / 20])"
   ]
  },
  {
   "cell_type": "code",
   "execution_count": 13,
   "id": "d0f84645",
   "metadata": {},
   "outputs": [],
   "source": [
    "x = symbols('x')"
   ]
  },
  {
   "cell_type": "code",
   "execution_count": 23,
   "id": "c5f091f3",
   "metadata": {},
   "outputs": [
    {
     "name": "stdout",
     "output_type": "stream",
     "text": [
      "1 [0.1732868 0.2      ] 1.2124472414789385\n",
      "2 [0.01692128 0.14150142] 0.16694987132915695\n",
      "3 [0.00502638 0.14293925] 0.011981487248782294\n",
      "* 4 [0.00506262 0.1428543 ] 9.235206789984676e-05\n"
     ]
    }
   ],
   "source": [
    "X0 = np.array([0., -1.])\n",
    "k = 0\n",
    "while k < 50:\n",
    "    k += 1\n",
    "    X = g(X0)   \n",
    "    e = np.linalg.norm(X - X0)\n",
    "    X0 = X\n",
    "    if  e < 10**-4:\n",
    "        print('*', k, X, e)\n",
    "        break\n",
    "    print(k, X, e)"
   ]
  },
  {
   "cell_type": "code",
   "execution_count": null,
   "id": "76c81255",
   "metadata": {},
   "outputs": [],
   "source": []
  }
 ],
 "metadata": {
  "kernelspec": {
   "display_name": "venv (3.13.6)",
   "language": "python",
   "name": "python3"
  },
  "language_info": {
   "codemirror_mode": {
    "name": "ipython",
    "version": 3
   },
   "file_extension": ".py",
   "mimetype": "text/x-python",
   "name": "python",
   "nbconvert_exporter": "python",
   "pygments_lexer": "ipython3",
   "version": "3.13.6"
  }
 },
 "nbformat": 4,
 "nbformat_minor": 5
}
