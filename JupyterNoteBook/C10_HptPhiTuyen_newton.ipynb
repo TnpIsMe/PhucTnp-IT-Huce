{
 "cells": [
  {
   "cell_type": "code",
   "execution_count": 1,
   "id": "eccc97ef",
   "metadata": {},
   "outputs": [],
   "source": [
    "import numpy as np"
   ]
  },
  {
   "cell_type": "code",
   "execution_count": 2,
   "id": "c313dd43",
   "metadata": {},
   "outputs": [],
   "source": [
    "from sympy import *"
   ]
  },
  {
   "cell_type": "code",
   "execution_count": 3,
   "id": "553dc81f",
   "metadata": {},
   "outputs": [],
   "source": [
    "f = lambda x: Matrix([sin(x[0]) - x[1] - 1.3,\n",
    "                      x[0] - cos(x[1]) - 0.9])"
   ]
  },
  {
   "cell_type": "code",
   "execution_count": 4,
   "id": "1558add8",
   "metadata": {},
   "outputs": [
    {
     "data": {
      "text/plain": [
       "[x0, x1]"
      ]
     },
     "execution_count": 4,
     "metadata": {},
     "output_type": "execute_result"
    }
   ],
   "source": [
    "x = [symbols(f'x{i}') for i in range(2)]\n",
    "x"
   ]
  },
  {
   "cell_type": "code",
   "execution_count": 5,
   "id": "77cd8983",
   "metadata": {},
   "outputs": [
    {
     "data": {
      "text/latex": [
       "$\\displaystyle \\left[\\begin{matrix}- x_{1} + \\sin{\\left(x_{0} \\right)} - 1.3\\\\x_{0} - \\cos{\\left(x_{1} \\right)} - 0.9\\end{matrix}\\right]$"
      ],
      "text/plain": [
       "Matrix([\n",
       "[-x1 + sin(x0) - 1.3],\n",
       "[ x0 - cos(x1) - 0.9]])"
      ]
     },
     "execution_count": 5,
     "metadata": {},
     "output_type": "execute_result"
    }
   ],
   "source": [
    "f(x)"
   ]
  },
  {
   "cell_type": "code",
   "execution_count": 6,
   "id": "c2739541",
   "metadata": {},
   "outputs": [
    {
     "data": {
      "text/latex": [
       "$\\displaystyle \\left[\\begin{matrix}\\cos{\\left(x_{0} \\right)} & -1\\\\1 & \\sin{\\left(x_{1} \\right)}\\end{matrix}\\right]$"
      ],
      "text/plain": [
       "Matrix([\n",
       "[cos(x0),      -1],\n",
       "[      1, sin(x1)]])"
      ]
     },
     "execution_count": 6,
     "metadata": {},
     "output_type": "execute_result"
    }
   ],
   "source": [
    "J = Matrix.hstack(\n",
    "    f(x).diff(x[0]),\n",
    "    f(x).diff(x[1])\n",
    ")\n",
    "J"
   ]
  },
  {
   "cell_type": "code",
   "execution_count": 7,
   "id": "f9b84005",
   "metadata": {},
   "outputs": [
    {
     "name": "stdout",
     "output_type": "stream",
     "text": [
      "1 Matrix([[2.01442501121918], [0.00598699848499651]]) 1.03933726326398\n",
      "2 Matrix([[1.90210491659766], [-0.348589891222993]]) 0.371941627639043\n",
      "3 Matrix([[1.84429931313963], [-0.335579456753855]]) 0.0592516598604806\n",
      "4 Matrix([[1.84374533514643], [-0.337019738764598]]) 0.00154314739652989\n",
      "* 5 Matrix([[1.84374439124340], [-0.337019632064325]]) 9.49914676786664e-7\n"
     ]
    }
   ],
   "source": [
    "X0 = Matrix([1.1, 0.5])\n",
    "k = 0\n",
    "while k < 50:\n",
    "    k += 1\n",
    "    J0 = J.subs({x[0]: X0[0], x[1]: X0[1]})\n",
    "    X = X0 - J0**-1 * f(X0)\n",
    "    e = (X - X0).norm()\n",
    "    X0 = X.copy()\n",
    "    if  e < 10**-6:\n",
    "        print('*', k, X, e)\n",
    "        break\n",
    "    print(k, X, e)"
   ]
  },
  {
   "cell_type": "code",
   "execution_count": null,
   "id": "6797f537",
   "metadata": {},
   "outputs": [],
   "source": [
    "# f = lambda x: np.array([np.sin(x[0]) - x[1] - 1.3,\n",
    "#                         x[0] - np.cos(x[1]) - 0.9])\n"
   ]
  },
  {
   "cell_type": "code",
   "execution_count": null,
   "id": "0513c951",
   "metadata": {},
   "outputs": [
    {
     "name": "stdout",
     "output_type": "stream",
     "text": [
      "1 [2.01442501 0.005987  ] 1.0393372632639821\n",
      "2 [ 1.90210492 -0.34858989] 0.37194162763904265\n",
      "3 [ 1.84429931 -0.33557946] 0.05925165986048059\n",
      "4 [ 1.84374534 -0.33701974] 0.0015431473965298878\n",
      "* 5 [ 1.84374439 -0.33701963] 9.499146767617224e-07\n"
     ]
    }
   ],
   "source": [
    "# X0 = np.array([1.1, 0.5])\n",
    "# k = 0\n",
    "# while k < 50:\n",
    "#     k += 1\n",
    "#     J = np.array([[np.cos(X0[0]), -1],\n",
    "#                   [1, np.sin(X0[1])]])\n",
    "#     x = X0 - np.linalg.inv(J) @ f(X0)\n",
    "#     e = np.linalg.norm(x - X0)\n",
    "#     X0 = x\n",
    "#     if  e < 10**-6:\n",
    "#         print('*', k, x, e)\n",
    "#         break\n",
    "#     print(k, x, e)\n"
   ]
  }
 ],
 "metadata": {
  "kernelspec": {
   "display_name": "venv (3.13.6)",
   "language": "python",
   "name": "python3"
  },
  "language_info": {
   "codemirror_mode": {
    "name": "ipython",
    "version": 3
   },
   "file_extension": ".py",
   "mimetype": "text/x-python",
   "name": "python",
   "nbconvert_exporter": "python",
   "pygments_lexer": "ipython3",
   "version": "3.13.6"
  }
 },
 "nbformat": 4,
 "nbformat_minor": 5
}
