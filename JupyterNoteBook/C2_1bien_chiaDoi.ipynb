{
 "cells": [
  {
   "cell_type": "code",
   "execution_count": 1,
   "id": "9e69631e",
   "metadata": {},
   "outputs": [],
   "source": [
    "#x**3 - x**2 - 3 = 0"
   ]
  },
  {
   "cell_type": "code",
   "execution_count": 2,
   "id": "5b1a31b7",
   "metadata": {},
   "outputs": [],
   "source": [
    "from sympy import *"
   ]
  },
  {
   "cell_type": "code",
   "execution_count": 3,
   "id": "aedefdeb",
   "metadata": {},
   "outputs": [],
   "source": [
    "f = lambda x: x**3 - x**2 - 3"
   ]
  },
  {
   "cell_type": "code",
   "execution_count": 4,
   "id": "7a0f5324",
   "metadata": {},
   "outputs": [
    {
     "name": "stdout",
     "output_type": "stream",
     "text": [
      "1 1 2.5 1.5\n",
      "2 1.75 2.5 0.75\n",
      "3 1.75 2.125 0.375\n",
      "4 1.75 1.9375 0.1875\n",
      "5 1.84375 1.9375 0.09375\n",
      "6 1.84375 1.890625 0.046875\n",
      "7 1.84375 1.8671875 0.0234375\n",
      "8 1.85546875 1.8671875 0.01171875\n",
      "Buoc 9 1.861328125 1.8671875 0.005859375\n"
     ]
    }
   ],
   "source": [
    "n = 0\n",
    "a, b = 1, 4\n",
    "while n < 10:\n",
    "    n += 1\n",
    "    c = (a + b) / 2\n",
    "    if f(c) == 0:\n",
    "        print(\"Nghiem x =\", c)\n",
    "        break\n",
    "    elif f(a) * f(c) < 0:\n",
    "        b = c\n",
    "    else:\n",
    "        a = c\n",
    "    if b - a < 10**-2:\n",
    "        print(\"Buoc\", n, a, b, b - a)\n",
    "        break\n",
    "    print(n, a, b, b - a)    \n",
    "\n"
   ]
  },
  {
   "cell_type": "code",
   "execution_count": null,
   "id": "5ef485d9",
   "metadata": {},
   "outputs": [],
   "source": []
  },
  {
   "cell_type": "code",
   "execution_count": null,
   "id": "9dd0817c",
   "metadata": {},
   "outputs": [],
   "source": []
  },
  {
   "cell_type": "code",
   "execution_count": null,
   "id": "4bba9e5a",
   "metadata": {},
   "outputs": [],
   "source": []
  },
  {
   "cell_type": "code",
   "execution_count": null,
   "metadata": {},
   "outputs": [],
   "source": []
  },
  {
   "cell_type": "code",
   "execution_count": null,
   "metadata": {},
   "outputs": [],
   "source": []
  },
  {
   "cell_type": "code",
   "execution_count": null,
   "metadata": {},
   "outputs": [],
   "source": []
  },
  {
   "cell_type": "code",
   "execution_count": 5,
   "id": "cafe1a8a",
   "metadata": {},
   "outputs": [],
   "source": [
    "# c = (a + b) / 2 (1)\n",
    "# f(c) = 0 -> x = c\n",
    "# f(a) * f(c) < 0 -> b = c\n",
    "# f(a) * f(c) > 0 -> a = c\n",
    "# qlai (1)\n",
    "# *DK dung: chu trinh <= n0 cho truoc\n",
    "# *DK dung: b - a < e cho truoc\n",
    "\n",
    "# n | a(an) | b(bn) | b - a\n",
    "#............................."
   ]
  }
 ],
 "metadata": {
  "kernelspec": {
   "display_name": "venv (3.13.6)",
   "language": "python",
   "name": "python3"
  },
  "language_info": {
   "codemirror_mode": {
    "name": "ipython",
    "version": 3
   },
   "file_extension": ".py",
   "mimetype": "text/x-python",
   "name": "python",
   "nbconvert_exporter": "python",
   "pygments_lexer": "ipython3",
   "version": "3.13.6"
  }
 },
 "nbformat": 4,
 "nbformat_minor": 5
}
