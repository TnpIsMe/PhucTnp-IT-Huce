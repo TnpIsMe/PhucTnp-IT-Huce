{
 "cells": [
  {
   "cell_type": "code",
   "execution_count": 2,
   "id": "fd4a0b59",
   "metadata": {},
   "outputs": [],
   "source": [
    "#x**3 - x**2 - 3 = 0"
   ]
  },
  {
   "cell_type": "code",
   "execution_count": 3,
   "id": "fc675bb0",
   "metadata": {},
   "outputs": [],
   "source": [
    "from sympy import *"
   ]
  },
  {
   "cell_type": "code",
   "execution_count": null,
   "id": "2867bda8",
   "metadata": {},
   "outputs": [],
   "source": [
    "f = lambda x: x**5 - x - 1/5"
   ]
  },
  {
   "cell_type": "code",
   "execution_count": 14,
   "id": "cfd708a7",
   "metadata": {},
   "outputs": [],
   "source": [
    "x, t = symbols('x, t')"
   ]
  },
  {
   "cell_type": "code",
   "execution_count": 15,
   "id": "c5cf2582",
   "metadata": {},
   "outputs": [
    {
     "data": {
      "text/plain": [
       "-4.152"
      ]
     },
     "execution_count": 15,
     "metadata": {},
     "output_type": "execute_result"
    }
   ],
   "source": [
    "f(-4/5)"
   ]
  },
  {
   "cell_type": "code",
   "execution_count": 17,
   "id": "a854cdf9",
   "metadata": {},
   "outputs": [
    {
     "data": {
      "image/png": "[encoded data removed]",
      "text/plain": [
       "<Figure size 640x480 with 1 Axes>"
      ]
     },
     "metadata": {},
     "output_type": "display_data"
    },
    {
     "data": {
      "text/plain": [
       "<sympy.plotting.backends.matplotlibbackend.matplotlib.MatplotlibBackend at 0x1f1bcc5ead0>"
      ]
     },
     "execution_count": 17,
     "metadata": {},
     "output_type": "execute_result"
    }
   ],
   "source": [
    "plot(abs(f(x).diff(x, 2)), (x, -3/2, -4/5))"
   ]
  },
  {
   "cell_type": "code",
   "execution_count": 18,
   "id": "c7810156",
   "metadata": {},
   "outputs": [],
   "source": [
    "M = 11"
   ]
  },
  {
   "cell_type": "code",
   "execution_count": 19,
   "id": "e4b5f746",
   "metadata": {},
   "outputs": [],
   "source": [
    "df = lambda x: f(t).diff().subs(t, x)"
   ]
  },
  {
   "cell_type": "code",
   "execution_count": 22,
   "id": "cc8217a6",
   "metadata": {},
   "outputs": [
    {
     "data": {
      "text/latex": [
       "$\\displaystyle 3.52$"
      ],
      "text/plain": [
       "3.52000000000000"
      ]
     },
     "execution_count": 22,
     "metadata": {},
     "output_type": "execute_result"
    }
   ],
   "source": [
    "m = min( abs(df(-3/2)), abs(df(-4/5)) )\n",
    "m"
   ]
  },
  {
   "cell_type": "code",
   "execution_count": 25,
   "id": "dec9c629",
   "metadata": {},
   "outputs": [
    {
     "name": "stdout",
     "output_type": "stream",
     "text": [
      "1 0.379545454545454 26.9361000000000\n",
      "2 -9.07021766014624 1728.80972380453\n",
      "3 -5.93198521678581 190.667015535321\n",
      "4 -3.82922405437497 85.6022632389359\n",
      "5 -2.40009460777902 39.5410764784714\n",
      "6 -1.37724578682677 20.2548135957332\n",
      "7 -0.488050465216328 15.3073386746946\n",
      "8 1.49602824689229 76.2119629819128\n",
      "9 2.00374305292042 4.99051091767702\n",
      "10 1.87559150773345 0.317945766814506\n",
      "11 1.86380235735863 0.00269073152860358\n",
      "Buoc 12 1.86370653411818 1.77765328426581e-7\n"
     ]
    }
   ],
   "source": [
    "n = 0\n",
    "x0 = -4/5\n",
    "while n < 100:\n",
    "    x = N(x0 - f(x0)/df(x0))\n",
    "    e = N(M / 2 * m * (x - x0)**2)\n",
    "    x0 = x\n",
    "    n += 1\n",
    "    if e < 10**-6:\n",
    "        print(\"Buoc\", n, x, e)\n",
    "        break\n",
    "    print(n, x, e)\n"
   ]
  },
  {
   "cell_type": "code",
   "execution_count": null,
   "id": "48578359",
   "metadata": {},
   "outputs": [],
   "source": []
  },
  {
   "cell_type": "code",
   "execution_count": null,
   "id": "56cb9743",
   "metadata": {},
   "outputs": [],
   "source": []
  },
  {
   "cell_type": "code",
   "execution_count": null,
   "metadata": {},
   "outputs": [],
   "source": []
  },
  {
   "cell_type": "code",
   "execution_count": null,
   "id": "b629fe69",
   "metadata": {},
   "outputs": [],
   "source": [
    "# f(x) = ...\n",
    "# f'(x) = ... > 0 Vx ...\n",
    "# f''(x) = ... > 0 Vx ...\n",
    "# f(1) = ... < 0\n",
    "# f(4) = ... > 0\n",
    "# x0 = [1, 4] : f(x0) * f''(x0) > 0 -> f(x0) > 0 -> chon x0 = 4\n",
    "\n",
    "# Xn+1 = Xn - f(Xn) / f'(Xn)\n",
    "# sai so: |Xn - X*| <= (M / 2m) * |Xn - Xn-1|^2 Vn >= 1\n",
    "# M >= |f''(x)| Vx in [a, b]\n",
    "# 0 < m <= |f'(x)| Vx in [a, b]\n",
    "\n",
    "# n | Xn | e\n",
    "#   |... |.........."
   ]
  }
 ],
 "metadata": {
  "kernelspec": {
   "display_name": "venv (3.13.6)",
   "language": "python",
   "name": "python3"
  },
  "language_info": {
   "codemirror_mode": {
    "name": "ipython",
    "version": 3
   },
   "file_extension": ".py",
   "mimetype": "text/x-python",
   "name": "python",
   "nbconvert_exporter": "python",
   "pygments_lexer": "ipython3",
   "version": "3.13.6"
  }
 },
 "nbformat": 4,
 "nbformat_minor": 5
}
