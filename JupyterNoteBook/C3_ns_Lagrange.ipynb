{
 "cells": [
  {
   "cell_type": "code",
   "execution_count": 2,
   "id": "7086246f",
   "metadata": {},
   "outputs": [],
   "source": [
    "from sympy import *"
   ]
  },
  {
   "cell_type": "code",
   "execution_count": 3,
   "id": "a0b4f541",
   "metadata": {},
   "outputs": [],
   "source": [
    "x = symbols('x')"
   ]
  },
  {
   "cell_type": "code",
   "execution_count": 4,
   "id": "99d38d21",
   "metadata": {},
   "outputs": [],
   "source": [
    "X = [-4, -1, 1, 2]"
   ]
  },
  {
   "cell_type": "code",
   "execution_count": 5,
   "id": "1b6db96c",
   "metadata": {},
   "outputs": [],
   "source": [
    "Y = [20, 2, 0, 20]"
   ]
  },
  {
   "cell_type": "code",
   "execution_count": 6,
   "id": "2ec3ffd2",
   "metadata": {},
   "outputs": [
    {
     "name": "stdout",
     "output_type": "stream",
     "text": [
      "L[ 0 ]: -x**3/90 + x**2/45 + x/90 - 1/45\n",
      "L[ 1 ]: x**3/18 + x**2/18 - 5*x/9 + 4/9\n",
      "L[ 2 ]: -x**3/10 - 3*x**2/10 + 3*x/5 + 4/5\n",
      "L[ 3 ]: x**3/18 + 2*x**2/9 - x/18 - 2/9\n"
     ]
    },
    {
     "data": {
      "text/latex": [
       "$\\displaystyle x^{3} + 5 x^{2} - 2 x - 4$"
      ],
      "text/plain": [
       "x**3 + 5*x**2 - 2*x - 4"
      ]
     },
     "execution_count": 6,
     "metadata": {},
     "output_type": "execute_result"
    }
   ],
   "source": [
    "P = 0\n",
    "for i in range(4):\n",
    "    L = 1\n",
    "    for j in range(4):\n",
    "        if j != i:\n",
    "            L = L * (x - X[j]) / (X[i] - X[j])\n",
    "    print('L[', i ,']:', expand(L))\n",
    "    P = P + Y[i] * L\n",
    "P.expand()"
   ]
  },
  {
   "cell_type": "code",
   "execution_count": null,
   "id": "b8100f1f",
   "metadata": {},
   "outputs": [],
   "source": [
    "\n"
   ]
  },
  {
   "cell_type": "code",
   "execution_count": null,
   "id": "dd40a29a",
   "metadata": {},
   "outputs": [],
   "source": []
  },
  {
   "cell_type": "code",
   "execution_count": null,
   "id": "9b4f4281",
   "metadata": {},
   "outputs": [],
   "source": []
  },
  {
   "cell_type": "code",
   "execution_count": null,
   "id": "52c0ac48",
   "metadata": {},
   "outputs": [],
   "source": []
  },
  {
   "cell_type": "code",
   "execution_count": 41,
   "id": "cb10fa67",
   "metadata": {},
   "outputs": [],
   "source": [
    "# L[i] = π (x - X[j]) / (X[i] - X[j]) (j = 0, j !=i), (i = 0, n) \n",
    "# L[0]\n",
    "# L[1]\n",
    "# .....\n",
    "# P(x) = ∑ Y[i] * L[i] (i = 0, n)"
   ]
  },
  {
   "cell_type": "code",
   "execution_count": null,
   "id": "c0985c61",
   "metadata": {},
   "outputs": [],
   "source": []
  }
 ],
 "metadata": {
  "kernelspec": {
   "display_name": "venv (3.13.6)",
   "language": "python",
   "name": "python3"
  },
  "language_info": {
   "codemirror_mode": {
    "name": "ipython",
    "version": 3
   },
   "file_extension": ".py",
   "mimetype": "text/x-python",
   "name": "python",
   "nbconvert_exporter": "python",
   "pygments_lexer": "ipython3",
   "version": "3.13.6"
  }
 },
 "nbformat": 4,
 "nbformat_minor": 5
}
