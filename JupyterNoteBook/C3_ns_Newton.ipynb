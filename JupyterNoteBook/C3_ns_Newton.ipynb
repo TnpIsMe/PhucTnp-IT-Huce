{
 "cells": [
  {
   "cell_type": "code",
   "execution_count": 14,
   "id": "eee9d0cf",
   "metadata": {},
   "outputs": [],
   "source": [
    "from sympy import *"
   ]
  },
  {
   "cell_type": "code",
   "execution_count": 15,
   "id": "ca3cf912",
   "metadata": {},
   "outputs": [],
   "source": [
    "x, t = symbols('x, t')"
   ]
  },
  {
   "cell_type": "code",
   "execution_count": 16,
   "id": "38127653",
   "metadata": {},
   "outputs": [],
   "source": [
    "X = [-1, 0, 1, 2]"
   ]
  },
  {
   "cell_type": "code",
   "execution_count": 17,
   "id": "ef104b14",
   "metadata": {},
   "outputs": [],
   "source": [
    "Y = [4, 3, 2, 7]"
   ]
  },
  {
   "cell_type": "code",
   "execution_count": 18,
   "id": "21ceb25d",
   "metadata": {},
   "outputs": [],
   "source": [
    "def d(k, i):\n",
    "    if k == 0:\n",
    "        return Y[i]\n",
    "    return d(k - 1, i + 1) - d(k - 1, i)"
   ]
  },
  {
   "cell_type": "code",
   "execution_count": 19,
   "id": "d4317ccd",
   "metadata": {},
   "outputs": [
    {
     "name": "stdout",
     "output_type": "stream",
     "text": [
      "[4, 3, 2, 7]\n",
      "[-1, -1, 5]\n",
      "[0, 6]\n",
      "[6]\n"
     ]
    }
   ],
   "source": [
    "for k in range(4):\n",
    "    print([d(k, i) for i in range(4 - k)])"
   ]
  },
  {
   "cell_type": "code",
   "execution_count": null,
   "id": "b57cc554",
   "metadata": {},
   "outputs": [
    {
     "data": {
      "text/latex": [
       "$\\displaystyle x^{3} - 2 x + 3$"
      ],
      "text/plain": [
       "x**3 - 2*x + 3"
      ]
     },
     "execution_count": 22,
     "metadata": {},
     "output_type": "execute_result"
    }
   ],
   "source": [
    "P = 0\n",
    "for k in range(4):\n",
    "    prod = 1\n",
    "    for i in range(k):\n",
    "        prod = prod * (t - i)\n",
    "    P = P + d(k, 0) / factorial(k) * prod\n",
    "# P\n",
    "# P.subs(t, (x - X[0]))\n",
    "# P.subs(t, (x - X[0])).expand()"
   ]
  }
 ],
 "metadata": {
  "kernelspec": {
   "display_name": "venv (3.13.6)",
   "language": "python",
   "name": "python3"
  },
  "language_info": {
   "codemirror_mode": {
    "name": "ipython",
    "version": 3
   },
   "file_extension": ".py",
   "mimetype": "text/x-python",
   "name": "python",
   "nbconvert_exporter": "python",
   "pygments_lexer": "ipython3",
   "version": "3.13.6"
  }
 },
 "nbformat": 4,
 "nbformat_minor": 5
}
