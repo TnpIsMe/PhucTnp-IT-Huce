{
 "cells": [
  {
   "cell_type": "code",
   "execution_count": 2,
   "id": "e82ede32",
   "metadata": {},
   "outputs": [],
   "source": [
    "import numpy as np\n",
    "from sympy import *"
   ]
  },
  {
   "cell_type": "code",
   "execution_count": 3,
   "id": "b5469cfa",
   "metadata": {},
   "outputs": [
    {
     "data": {
      "text/plain": [
       "array([[ 0.11,  0.05, -0.13, -0.18],\n",
       "       [ 0.19,  0.15,  0.02, -0.06],\n",
       "       [ 0.2 , -0.15,  0.11,  0.09],\n",
       "       [-0.07,  0.1 ,  0.11, -0.06]])"
      ]
     },
     "execution_count": 3,
     "metadata": {},
     "output_type": "execute_result"
    }
   ],
   "source": [
    "B = np.array([[0.11, 0.05, -0.13, -0.18],\n",
    "              [0.19, 0.15, 0.02, -0.06],\n",
    "              [0.2, -0.15, 0.11, 0.09],\n",
    "              [-0.07, 0.1, 0.11, -0.06]])\n",
    "B"
   ]
  },
  {
   "cell_type": "code",
   "execution_count": 4,
   "id": "4e2bf61e",
   "metadata": {},
   "outputs": [
    {
     "data": {
      "text/plain": [
       "array([-2.36, -2.72,  0.87, -1.76])"
      ]
     },
     "execution_count": 4,
     "metadata": {},
     "output_type": "execute_result"
    }
   ],
   "source": [
    "g = np.array([-2.36, -2.72, 0.87, -1.76])\n",
    "g"
   ]
  },
  {
   "cell_type": "code",
   "execution_count": 5,
   "id": "870e448c",
   "metadata": {},
   "outputs": [
    {
     "data": {
      "text/plain": [
       "np.float64(0.5499999999999999)"
      ]
     },
     "execution_count": 5,
     "metadata": {},
     "output_type": "execute_result"
    }
   ],
   "source": [
    "q = np.linalg.norm(B, np.inf)\n",
    "q"
   ]
  },
  {
   "cell_type": "code",
   "execution_count": 6,
   "id": "6fa8a769",
   "metadata": {},
   "outputs": [
    {
     "name": "stdout",
     "output_type": "stream",
     "text": [
      "1 [-3.6926 -3.0903  1.3364 -1.8799] 9.973211111111109\n",
      "2 [-2.756051 -3.745617  0.572838 -1.55075 ] 1.1446709999999995\n",
      "3 [-2.6457804  -3.70099048  0.80407703 -1.78558095] 0.28701560555555533\n",
      "4 [-2.61921081 -3.65463045  0.82373868 -1.74931109] 0.056662258400000214\n",
      "5 [-2.62305474 -3.64441118  0.82752566 -1.74654837] 0.012490216135222075\n",
      "6 [-2.62395621 -3.64369866  0.8258892  -1.74500656] 0.002000122394881034\n",
      "7 [-2.62408453 -3.6438883   0.82556078 -1.74514473] 0.00040140179515937526\n",
      "8 [-2.62404056 -3.64393941  0.825515   -1.74518254] 6.246183917034561e-05\n",
      "9 [-2.62402552 -3.64393737  0.82552302 -1.7451935 ] 1.8381749028289418e-05\n",
      "10 [-2.62402284 -3.64393338  0.82552562 -1.74519281] 4.866195788692331e-06\n",
      "11 [-2.62402281 -3.64393227  0.82552591 -1.74519235] 1.3664571629274426e-06\n",
      "Buoc 12 [-2.62402287 -3.64393211  0.82552582 -1.74519224] 1.8620545806492646e-07\n"
     ]
    }
   ],
   "source": [
    "#lap bat dong\n",
    "x0 = np.array([-0.66, 0.71, 1.27, 6.28])\n",
    "k = 0\n",
    "while k < 50:\n",
    "    k += 1\n",
    "    x =  B @ x0 + g\n",
    "    e = q / (1 - q) * np.linalg.norm(x - x0, np.inf)\n",
    "    x0 = x\n",
    "    \n",
    "    if e < 10**-6:\n",
    "        print('Buoc', k, x, e)\n",
    "        break\n",
    "    print(k, x, e)"
   ]
  },
  {
   "cell_type": "code",
   "execution_count": 7,
   "id": "394cf127",
   "metadata": {},
   "outputs": [
    {
     "name": "stdout",
     "output_type": "stream",
     "text": [
      "1 [ 3.76     -1.3964    3.120334] 2.7600000000000002\n",
      "2 [ 4.22640066 -1.74876436  3.4756046 ] 0.46640066000000013\n",
      "3 [ 4.33156813 -1.735487    3.37800737] 0.10516747316893493\n",
      "4 [ 4.34685872 -1.75919468  3.41184328] 0.033835908141294446\n",
      "5 [ 4.35142179 -1.75549994  3.40168957] 0.010153709634539432\n",
      "6 [ 4.35180137 -1.7574141   3.40501673] 0.0033271639208631854\n",
      "7 [ 4.35203559 -1.75695224  3.40398398] 0.0010327540332082386\n",
      "Buoc 8 [ 4.35203025 -1.75712668  3.40431535] 0.0003313694607181006\n"
     ]
    }
   ],
   "source": [
    "#Seidel\n",
    "x0 = np.array([1., -1., 4.])\n",
    "k = 0\n",
    "while k < 50:\n",
    "    k += 1\n",
    "    x = x0.copy()\n",
    "\n",
    "    for i in range(3):\n",
    "        x[i] = B[i] @ x + g[i]\n",
    "\n",
    "    e = np.linalg.norm(x - x0, np.inf)\n",
    "    x0 = x.copy()\n",
    "    \n",
    "    if e < 10**-3:\n",
    "        print('Buoc', k, x, e)\n",
    "        break\n",
    "    print(k, x, e)"
   ]
  },
  {
   "cell_type": "code",
   "execution_count": null,
   "id": "97076a12",
   "metadata": {},
   "outputs": [],
   "source": []
  }
 ],
 "metadata": {
  "kernelspec": {
   "display_name": "venv (3.13.6)",
   "language": "python",
   "name": "python3"
  },
  "language_info": {
   "codemirror_mode": {
    "name": "ipython",
    "version": 3
   },
   "file_extension": ".py",
   "mimetype": "text/x-python",
   "name": "python",
   "nbconvert_exporter": "python",
   "pygments_lexer": "ipython3",
   "version": "3.13.6"
  }
 },
 "nbformat": 4,
 "nbformat_minor": 5
}
