{
 "cells": [
  {
   "cell_type": "code",
   "execution_count": 2,
   "id": "db68fa4d",
   "metadata": {},
   "outputs": [],
   "source": [
    "import numpy as np"
   ]
  },
  {
   "cell_type": "code",
   "execution_count": 3,
   "id": "4ea3537d",
   "metadata": {},
   "outputs": [
    {
     "data": {
      "text/plain": [
       "array([[ 2.  , -0.22,  1.08,  0.04],\n",
       "       [ 2.04, -6.  , -1.74,  0.9 ],\n",
       "       [ 0.15, -0.3 ,  3.  ,  0.51],\n",
       "       [-0.12,  0.69,  0.36,  3.  ]])"
      ]
     },
     "execution_count": 3,
     "metadata": {},
     "output_type": "execute_result"
    }
   ],
   "source": [
    "A = np.array([[2, -0.22, 1.08, 0.04], \n",
    "              [2.04, -6, -1.74, 0.9],\n",
    "              [0.15, -0.3, 3, 0.51],\n",
    "              [-0.12, 0.69, 0.36, 3]])\n",
    "A"
   ]
  },
  {
   "cell_type": "code",
   "execution_count": 4,
   "id": "143790f9",
   "metadata": {},
   "outputs": [
    {
     "data": {
      "text/plain": [
       "array([ -8,   6, -15,  -6])"
      ]
     },
     "execution_count": 4,
     "metadata": {},
     "output_type": "execute_result"
    }
   ],
   "source": [
    "b = np.array([-8, 6, -15, -6])\n",
    "b"
   ]
  },
  {
   "cell_type": "code",
   "execution_count": 13,
   "id": "f5c3f830",
   "metadata": {},
   "outputs": [
    {
     "data": {
      "text/plain": [
       "array([-4., -1., -5., -2.])"
      ]
     },
     "execution_count": 13,
     "metadata": {},
     "output_type": "execute_result"
    }
   ],
   "source": [
    "g = np.array([b[i] / A[i, i] for i in range(4)])\n",
    "g"
   ]
  },
  {
   "cell_type": "code",
   "execution_count": 11,
   "id": "8ac9caed",
   "metadata": {},
   "outputs": [
    {
     "data": {
      "text/plain": [
       "array([[ 0.  ,  0.11, -0.54, -0.02],\n",
       "       [ 0.34,  0.  , -0.29,  0.15],\n",
       "       [-0.05,  0.1 ,  0.  , -0.17],\n",
       "       [ 0.04, -0.23, -0.12,  0.  ]])"
      ]
     },
     "execution_count": 11,
     "metadata": {},
     "output_type": "execute_result"
    }
   ],
   "source": [
    "B = np.array([[-A[i, j] / A[i, i] if i != j else 0 for j in range(4)] for i in range(4)])\n",
    "B"
   ]
  },
  {
   "cell_type": "code",
   "execution_count": 14,
   "id": "9bb5f72b",
   "metadata": {},
   "outputs": [
    {
     "data": {
      "text/plain": [
       "np.float64(0.78)"
      ]
     },
     "execution_count": 14,
     "metadata": {},
     "output_type": "execute_result"
    }
   ],
   "source": [
    "q = np.linalg.norm(B, np.inf)\n",
    "q"
   ]
  },
  {
   "cell_type": "code",
   "execution_count": 15,
   "id": "174edc09",
   "metadata": {},
   "outputs": [
    {
     "name": "stdout",
     "output_type": "stream",
     "text": [
      "1 [-5.45 -0.62 -4.64 -2.39] 37.050000000000004\n",
      "2 [-1.5148 -1.8659 -4.3832 -1.5186] 13.952072727272729\n",
      "3 [-1.807949 -0.471694 -4.852688 -1.105451] 4.943094000000001\n",
      "4 [-1.4093258  -0.37324079 -4.76884528 -1.38150578] 1.4133004363636343\n",
      "5 [-1.43824992 -0.30343151 -4.73200181 -1.39826622] 0.2475056368909077\n",
      "6 [-1.45013117 -0.32646438 -4.7207254  -1.41990053] 0.08166200669427234\n",
      "7 [-1.45832136 -0.33701931 -4.71875679 -1.41643139] 0.037422023003110316\n",
      "8 [-1.46061483 -0.3398545  -4.71999253 -1.4145676 ] 0.010052037055018621\n",
      "9 [-1.46029668 -0.33999635 -4.72047822 -1.41385895] 0.002512462412977252\n",
      "10 [-1.46006418 -0.33964103 -4.72062878 -1.41375532] 0.0012597643559366658\n",
      "11 [-1.45994587 -0.33950277 -4.72062249 -1.41380968] 0.0004901832522076514\n",
      "12 [-1.45993297 -0.33947252 -4.72060534 -1.4138375 ] 0.00010725023875377751\n",
      "13 [-1.45993834 -0.33947729 -4.72059823 -1.413846  ] 3.013493155109873e-05\n",
      "14 [-1.45994254 -0.33948245 -4.72059699 -1.41384597] 1.831231927426372e-05\n",
      "15 [-1.45994377 -0.33948423 -4.7205973  -1.4138451 ] 6.312707704479095e-06\n",
      "16 [-1.45994382 -0.33948443 -4.72059757 -1.4138447 ] 1.4089788893793684e-06\n",
      "Buoc 17 [-1.45994371 -0.33948431 -4.72059765 -1.41384463] 4.287872719918343e-07\n"
     ]
    }
   ],
   "source": [
    "#lap bat dong\n",
    "x0 = np.array([5, 1, 3, -3])\n",
    "k = 0\n",
    "while k < 50:\n",
    "    k += 1\n",
    "    x =  B @ x0 + g\n",
    "    e = q / (1 - q) * np.linalg.norm(x - x0, np.inf)\n",
    "    x0 = x\n",
    "\n",
    "    if e < 10**-6:\n",
    "        print('Buoc', k, x, e)\n",
    "        break\n",
    "    print(k, x, e)"
   ]
  },
  {
   "cell_type": "code",
   "execution_count": 9,
   "id": "cbbf7f21",
   "metadata": {},
   "outputs": [
    {
     "name": "stdout",
     "output_type": "stream",
     "text": [
      "1 [0.7   1.34  2.561] 2.34\n",
      "2 [0.1102   1.10984  2.644436] 0.5898\n",
      "3 [0.1959352  1.11029984 2.62735794] 0.08573519999999996\n",
      "4 [0.19238164 1.11300474 2.62847438] 0.0035535647999999087\n",
      "5 [0.19179345 1.11266381 2.62854088] 0.0005881803648000172\n",
      "6 [0.19190903 1.11267363 2.62851924] 0.00011557714283519371\n",
      "7 [0.19190176 1.1126765  2.62852112] 7.273401333968144e-06\n",
      "Buoc 8 [0.19190127 1.11267603 2.62852115] 4.850239485876262e-07\n"
     ]
    }
   ],
   "source": [
    "#seidel\n",
    "x0 = np.array([3., -1., 2.])\n",
    "k = 0\n",
    "while k < 50:\n",
    "    k += 1\n",
    "    x =  x0.copy()\n",
    "\n",
    "    for i in range(3):\n",
    "        x[i] = B[i] @ x + g[i]\n",
    "        \n",
    "    e = np.linalg.norm(x - x0, np.inf)\n",
    "    x0 = x\n",
    "\n",
    "    if e < 10**-6:\n",
    "        print('Buoc', k, x, e)\n",
    "        break\n",
    "    print(k, x, e)"
   ]
  },
  {
   "cell_type": "code",
   "execution_count": null,
   "id": "f2dda2dd",
   "metadata": {},
   "outputs": [],
   "source": []
  },
  {
   "cell_type": "code",
   "execution_count": null,
   "id": "86958cff",
   "metadata": {},
   "outputs": [],
   "source": []
  }
 ],
 "metadata": {
  "kernelspec": {
   "display_name": "venv (3.13.6)",
   "language": "python",
   "name": "python3"
  },
  "language_info": {
   "codemirror_mode": {
    "name": "ipython",
    "version": 3
   },
   "file_extension": ".py",
   "mimetype": "text/x-python",
   "name": "python",
   "nbconvert_exporter": "python",
   "pygments_lexer": "ipython3",
   "version": "3.13.6"
  }
 },
 "nbformat": 4,
 "nbformat_minor": 5
}
