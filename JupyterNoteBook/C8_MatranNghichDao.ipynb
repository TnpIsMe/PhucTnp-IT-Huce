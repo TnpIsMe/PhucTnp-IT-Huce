{
 "cells": [
  {
   "cell_type": "code",
   "execution_count": 1,
   "id": "f2601a14",
   "metadata": {},
   "outputs": [],
   "source": [
    "import numpy as np"
   ]
  },
  {
   "cell_type": "code",
   "execution_count": 5,
   "id": "5419f6dd",
   "metadata": {},
   "outputs": [],
   "source": [
    "A = np.array([[0, 3, 5],\n",
    "              [4, 6, 6],\n",
    "              [7, 6, 7]])"
   ]
  },
  {
   "cell_type": "code",
   "execution_count": 9,
   "id": "d3bd5814",
   "metadata": {},
   "outputs": [
    {
     "data": {
      "text/plain": [
       "array([[-0.125     , -0.1875    ,  0.25      ],\n",
       "       [-0.29166667,  0.72916667, -0.41666667],\n",
       "       [ 0.375     , -0.4375    ,  0.25      ]])"
      ]
     },
     "execution_count": 9,
     "metadata": {},
     "output_type": "execute_result"
    }
   ],
   "source": [
    "np.linalg.inv(A)"
   ]
  },
  {
   "cell_type": "code",
   "execution_count": 10,
   "id": "f39c21f0",
   "metadata": {},
   "outputs": [],
   "source": [
    "X0 = np.array([[-0.1, -0.1,  0.25],\n",
    "               [-0.2,  0.7, -0.41],\n",
    "               [ 0.3, -0.4,  0.25]])"
   ]
  },
  {
   "cell_type": "code",
   "execution_count": 12,
   "id": "ad58e8de",
   "metadata": {},
   "outputs": [
    {
     "data": {
      "text/plain": [
       "np.float64(0.8681013765684275)"
      ]
     },
     "execution_count": 12,
     "metadata": {},
     "output_type": "execute_result"
    }
   ],
   "source": [
    "np.linalg.norm(np.eye(3) - A @ X0)"
   ]
  },
  {
   "cell_type": "code",
   "execution_count": null,
   "id": "bf022d0a",
   "metadata": {},
   "outputs": [
    {
     "name": "stdout",
     "output_type": "stream",
     "text": [
      "1 [[-0.14   -0.225   0.246 ]\n",
      " [-0.278   0.727  -0.4176]\n",
      " [ 0.36   -0.445   0.25  ]] 0.17244349799282077\n",
      "2 [[-0.128572   -0.197272    0.2490136 ]\n",
      " [-0.2914688   0.7290112  -0.41670656]\n",
      " [ 0.37398    -0.43972     0.249796  ]] 0.03630613037592409\n",
      "3 [[-0.12523446 -0.18814628  0.24993462]\n",
      " [-0.29167     0.72915728 -0.41666762]\n",
      " [ 0.37494642 -0.43764753  0.24998508]] 0.010029672797050873\n",
      "4 [[-0.12500103 -0.18750283  0.24999971]\n",
      " [-0.29166668  0.72916663 -0.41666667]\n",
      " [ 0.37499977 -0.43750065  0.24999993]] 0.0007053424780486591\n",
      "5 [[-0.125      -0.1875      0.25      ]\n",
      " [-0.29166667  0.72916667 -0.41666667]\n",
      " [ 0.375      -0.4375      0.25      ]] 3.0974467239022874e-06\n",
      "* 6 [[-0.125      -0.1875      0.25      ]\n",
      " [-0.29166667  0.72916667 -0.41666667]\n",
      " [ 0.375      -0.4375      0.25      ]] 5.921579593491366e-11\n"
     ]
    }
   ],
   "source": [
    "k = 0\n",
    "X0 = np.array([[-0.1, -0.1,  0.25],\n",
    "               [-0.2,  0.7, -0.41],\n",
    "               [ 0.3, -0.4,  0.25]])\n",
    "while k < 1_000:\n",
    "    k += 1\n",
    "    X = 2 * X0 - X0 @ A @ X0\n",
    "    e = np.linalg.norm(X - X0)\n",
    "    X0 = X\n",
    "    if e < 10**-10:\n",
    "        print('*', k, X, e)\n",
    "        break\n",
    "    print(k, X, e)"
   ]
  },
  {
   "cell_type": "code",
   "execution_count": null,
   "id": "1a29f38c",
   "metadata": {},
   "outputs": [],
   "source": []
  }
 ],
 "metadata": {
  "kernelspec": {
   "display_name": "venv (3.13.6)",
   "language": "python",
   "name": "python3"
  },
  "language_info": {
   "codemirror_mode": {
    "name": "ipython",
    "version": 3
   },
   "file_extension": ".py",
   "mimetype": "text/x-python",
   "name": "python",
   "nbconvert_exporter": "python",
   "pygments_lexer": "ipython3",
   "version": "3.13.6"
  }
 },
 "nbformat": 4,
 "nbformat_minor": 5
}
