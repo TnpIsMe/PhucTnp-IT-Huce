{
 "cells": [
  {
   "cell_type": "code",
   "execution_count": 2,
   "id": "52f76aa8",
   "metadata": {},
   "outputs": [],
   "source": [
    "import numpy as np"
   ]
  },
  {
   "cell_type": "code",
   "execution_count": 3,
   "id": "43f341fd",
   "metadata": {},
   "outputs": [],
   "source": [
    "X = np.array([[-0.7, -2.9],\n",
    "              [1.7, -1.1],\n",
    "              [-4.9, -2.9],\n",
    "              [3.1, 1.5],\n",
    "              [-1.3, 0.8]])"
   ]
  },
  {
   "cell_type": "code",
   "execution_count": 19,
   "id": "6a291340",
   "metadata": {},
   "outputs": [],
   "source": [
    "Y = np.array([7.1, 5.8, -3.1, -1., -8.7])"
   ]
  },
  {
   "cell_type": "code",
   "execution_count": 20,
   "id": "1f4c59b1",
   "metadata": {},
   "outputs": [
    {
     "data": {
      "text/plain": [
       "array([[ 1. , -0.7, -2.9],\n",
       "       [ 1. ,  1.7, -1.1],\n",
       "       [ 1. , -4.9, -2.9],\n",
       "       [ 1. ,  3.1,  1.5],\n",
       "       [ 1. , -1.3,  0.8]])"
      ]
     },
     "execution_count": 20,
     "metadata": {},
     "output_type": "execute_result"
    }
   ],
   "source": [
    "A = np.concatenate(\n",
    "    (\n",
    "        np.ones(shape = (len(X), 1)), #len(x) = so cot cua X\n",
    "        X\n",
    "    ), \n",
    "    axis = 1\n",
    ")\n",
    "A"
   ]
  },
  {
   "cell_type": "code",
   "execution_count": 21,
   "id": "a11c97ec",
   "metadata": {},
   "outputs": [
    {
     "data": {
      "text/plain": [
       "array([[ 5.  , -2.1 , -4.6 ],\n",
       "       [-2.1 , 38.69, 17.98],\n",
       "       [-4.6 , 17.98, 20.92]])"
      ]
     },
     "execution_count": 21,
     "metadata": {},
     "output_type": "execute_result"
    }
   ],
   "source": [
    "A.T @ A"
   ]
  },
  {
   "cell_type": "code",
   "execution_count": 7,
   "id": "eac010c6",
   "metadata": {},
   "outputs": [
    {
     "data": {
      "text/plain": [
       "array([[ 0.26037082, -0.02076906,  0.07510198],\n",
       "       [-0.02076906,  0.04469183, -0.04297786],\n",
       "       [ 0.07510198, -0.04297786,  0.10125291]])"
      ]
     },
     "execution_count": 7,
     "metadata": {},
     "output_type": "execute_result"
    }
   ],
   "source": [
    "np.linalg.inv(A.T @ A) "
   ]
  },
  {
   "cell_type": "code",
   "execution_count": 8,
   "id": "36747a57",
   "metadata": {},
   "outputs": [
    {
     "data": {
      "text/plain": [
       "array([-2.54721599,  2.3985894 , -3.88546037])"
      ]
     },
     "execution_count": 8,
     "metadata": {},
     "output_type": "execute_result"
    }
   ],
   "source": [
    "w = np.linalg.inv(A.T @ A) @ A.T @ Y\n",
    "w"
   ]
  },
  {
   "cell_type": "code",
   "execution_count": 27,
   "id": "b13e32b3",
   "metadata": {},
   "outputs": [
    {
     "name": "stdout",
     "output_type": "stream",
     "text": [
      "-2.5472159947895237 + 2.3985894007952817 *x1 + -3.8854603729603707 *x2\n"
     ]
    }
   ],
   "source": [
    "print(w[0], \"+\", w[1], \"*x1 +\", w[2], \"*x2\")"
   ]
  },
  {
   "cell_type": "code",
   "execution_count": 28,
   "id": "0c0a13a6",
   "metadata": {},
   "outputs": [
    {
     "data": {
      "text/plain": [
       "array([ 7.04160651,  5.8043924 , -3.03246898, -0.93977941, -8.77375051])"
      ]
     },
     "execution_count": 28,
     "metadata": {},
     "output_type": "execute_result"
    }
   ],
   "source": [
    "Y_pred = A @ w\n",
    "Y_pred"
   ]
  },
  {
   "cell_type": "code",
   "execution_count": 29,
   "id": "df77c540",
   "metadata": {},
   "outputs": [
    {
     "data": {
      "text/plain": [
       "array([-0.05839349,  0.0043924 ,  0.06753102,  0.06022059, -0.07375051])"
      ]
     },
     "execution_count": 29,
     "metadata": {},
     "output_type": "execute_result"
    }
   ],
   "source": [
    "Y_pred - Y"
   ]
  },
  {
   "cell_type": "code",
   "execution_count": 18,
   "id": "3f1506f6",
   "metadata": {},
   "outputs": [
    {
     "name": "stdout",
     "output_type": "stream",
     "text": [
      "0.0034110379816262547\n"
     ]
    },
    {
     "data": {
      "text/plain": [
       "np.float64(0.003411037981626254)"
      ]
     },
     "execution_count": 18,
     "metadata": {},
     "output_type": "execute_result"
    }
   ],
   "source": [
    "MSE = np.mean((Y_pred - Y)**2)\n",
    "print(1 / len(X) * np.linalg.norm(Y_pred - Y)**2)\n",
    "MSE"
   ]
  },
  {
   "cell_type": "code",
   "execution_count": 12,
   "id": "314b8cc8",
   "metadata": {},
   "outputs": [
    {
     "data": {
      "text/plain": [
       "np.float64(0.05840409216507225)"
      ]
     },
     "execution_count": 12,
     "metadata": {},
     "output_type": "execute_result"
    }
   ],
   "source": [
    "RMSE = np.sqrt(MSE)\n",
    "RMSE"
   ]
  }
 ],
 "metadata": {
  "kernelspec": {
   "display_name": "venv (3.13.6)",
   "language": "python",
   "name": "python3"
  },
  "language_info": {
   "codemirror_mode": {
    "name": "ipython",
    "version": 3
   },
   "file_extension": ".py",
   "mimetype": "text/x-python",
   "name": "python",
   "nbconvert_exporter": "python",
   "pygments_lexer": "ipython3",
   "version": "3.13.6"
  }
 },
 "nbformat": 4,
 "nbformat_minor": 5
}
